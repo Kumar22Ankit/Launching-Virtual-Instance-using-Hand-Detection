{
 "cells": [
  {
   "cell_type": "code",
   "execution_count": 2,
   "id": "cd730611",
   "metadata": {},
   "outputs": [],
   "source": [
    "import boto3"
   ]
  },
  {
   "cell_type": "code",
   "execution_count": 3,
   "id": "a418fc13",
   "metadata": {},
   "outputs": [],
   "source": [
    "myec2 = boto3.resource(\"ec2\")"
   ]
  },
  {
   "cell_type": "code",
   "execution_count": 4,
   "id": "fe863ea3",
   "metadata": {},
   "outputs": [],
   "source": [
    "def launchOs():\n",
    "    response = myec2.create_instances(ImageId=\"ami-0da59f1af71ea4ad2\" , InstanceType=\"t2.micro\" , MaxCount=1 , MinCount=1 )"
   ]
  },
  {
   "cell_type": "code",
   "execution_count": 5,
   "id": "14578825",
   "metadata": {},
   "outputs": [],
   "source": [
    "#launchOs()"
   ]
  },
  {
   "cell_type": "code",
   "execution_count": 6,
   "id": "dc52b7ec",
   "metadata": {},
   "outputs": [],
   "source": [
    "import cv2"
   ]
  },
  {
   "cell_type": "code",
   "execution_count": 7,
   "id": "8a8722e4",
   "metadata": {},
   "outputs": [],
   "source": [
    "cap = cv2.VideoCapture(0)"
   ]
  },
  {
   "cell_type": "code",
   "execution_count": 8,
   "id": "bcc4ea3d",
   "metadata": {},
   "outputs": [],
   "source": [
    "from cvzone.HandTrackingModule import HandDetector"
   ]
  },
  {
   "cell_type": "code",
   "execution_count": 9,
   "id": "37d6c969",
   "metadata": {},
   "outputs": [],
   "source": [
    "detector = HandDetector()"
   ]
  },
  {
   "cell_type": "code",
   "execution_count": 10,
   "id": "564691b0",
   "metadata": {},
   "outputs": [],
   "source": [
    "while True:\n",
    "    status , photo =cap.read()\n",
    "    cv2.imshow(\"my photo\" , photo)\n",
    "    if cv2.waitKey(10) ==13:   #100 here is millisecond  , 13 : enter key \n",
    "        break\n",
    "        \n",
    "    Handphoto = detector.findHands(photo , draw=False)\n",
    "    if Handphoto:\n",
    "            lmlist = Handphoto[0]\n",
    "            fingerstatus = detector.fingersUp(lmlist)\n",
    " \n",
    "            if fingerstatus == [1,1,1,1,1]:\n",
    "                print(\"all up\")\n",
    "                launchOs()\n",
    "                launchOs()\n",
    "                launchOs()\n",
    "                launchOs()\n",
    "                launchOs()\n",
    "\n",
    "            elif fingerstatus == [ 0 ,1 ,0 , 0, 0]:\n",
    "                print(\"index finger up\")\n",
    "                launchOs()\n",
    "    \n",
    "            elif fingerstatus == [ 0 , 1, 1, 0 , 0 ]:\n",
    "                print(\"index and middle finger up\")\n",
    "                launchOs()\n",
    "                launchOs()\n",
    "            else:\n",
    "                print(\"idk\")    \n",
    "cv2.destroyAllWindows()"
   ]
  },
  {
   "cell_type": "code",
   "execution_count": null,
   "id": "fe212c2a",
   "metadata": {},
   "outputs": [],
   "source": []
  }
 ],
 "metadata": {
  "kernelspec": {
   "display_name": "Python 3 (ipykernel)",
   "language": "python",
   "name": "python3"
  },
  "language_info": {
   "codemirror_mode": {
    "name": "ipython",
    "version": 3
   },
   "file_extension": ".py",
   "mimetype": "text/x-python",
   "name": "python",
   "nbconvert_exporter": "python",
   "pygments_lexer": "ipython3",
   "version": "3.10.9"
  }
 },
 "nbformat": 4,
 "nbformat_minor": 5
}
